{
  "nbformat": 4,
  "nbformat_minor": 0,
  "metadata": {
    "colab": {
      "name": "TF-IDF.ipynb",
      "provenance": [],
      "authorship_tag": "ABX9TyNaZ3kQLAg35raAC8cTvQGz",
      "include_colab_link": true
    },
    "kernelspec": {
      "name": "python3",
      "display_name": "Python 3"
    },
    "language_info": {
      "name": "python"
    }
  },
  "cells": [
    {
      "cell_type": "markdown",
      "metadata": {
        "id": "view-in-github",
        "colab_type": "text"
      },
      "source": [
        "<a href=\"https://colab.research.google.com/github/chamodi08jaya/Data-Analytics/blob/main/TF_IDF.ipynb\" target=\"_parent\"><img src=\"https://colab.research.google.com/assets/colab-badge.svg\" alt=\"Open In Colab\"/></a>"
      ]
    },
    {
      "cell_type": "code",
      "metadata": {
        "id": "W9VQYvN58fAd"
      },
      "source": [
        "#the sentence (documents) used to calculate the TF-IDF\n",
        "doc1 = \"the sky is blue\"\n",
        "doc2 = \"the  sun is bright today\"\n",
        "doc3 = \"the sun in the sky is bright\"\n",
        "doc4 = \"we can see the shining sun the bright sun\""
      ],
      "execution_count": 1,
      "outputs": []
    },
    {
      "cell_type": "code",
      "metadata": {
        "id": "f6DqxbUoOro-"
      },
      "source": [
        "#split the sentence in to words and assign the list to bow(bag of word) variables\n",
        "bow1 = doc1.split(\" \")\n",
        "bow2 = doc2.split(\" \")\n",
        "bow3 = doc3.split(\" \")\n",
        "bow4 = doc4.split(\" \")"
      ],
      "execution_count": 3,
      "outputs": []
    },
    {
      "cell_type": "code",
      "metadata": {
        "colab": {
          "base_uri": "https://localhost:8080/"
        },
        "id": "KTYot6CGPZ87",
        "outputId": "8d4179ff-96b3-4e5c-f64c-5e6ceb5330b9"
      },
      "source": [
        "print (bow1, bow2, bow3, bow4)"
      ],
      "execution_count": 4,
      "outputs": [
        {
          "output_type": "stream",
          "text": [
            "['the', 'sky', 'is', 'blue'] ['the', '', 'sun', 'is', 'bright', 'today'] ['the', 'sun', 'in', 'the', 'sky', 'is', 'bright'] ['we', 'can', 'see', 'the', 'shining', 'sun', 'the', 'bright', 'sun']\n"
          ],
          "name": "stdout"
        }
      ]
    },
    {
      "cell_type": "code",
      "metadata": {
        "id": "xtEeHo3pQwn0"
      },
      "source": [
        "#The union() method returns a set that contains all items from the original set, and all items from specified set(s).\n",
        "#If an item"
      ],
      "execution_count": null,
      "outputs": []
    }
  ]
}
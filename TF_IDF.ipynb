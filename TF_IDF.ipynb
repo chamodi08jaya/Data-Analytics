{
  "nbformat": 4,
  "nbformat_minor": 0,
  "metadata": {
    "colab": {
      "name": "TF-IDF.ipynb",
      "provenance": [],
      "authorship_tag": "ABX9TyPKJXKWKKv7oWmN9JRa0jO5",
      "include_colab_link": true
    },
    "kernelspec": {
      "name": "python3",
      "display_name": "Python 3"
    },
    "language_info": {
      "name": "python"
    }
  },
  "cells": [
    {
      "cell_type": "markdown",
      "metadata": {
        "id": "view-in-github",
        "colab_type": "text"
      },
      "source": [
        "<a href=\"https://colab.research.google.com/github/chamodi08jaya/Data-Analytics/blob/main/TF_IDF.ipynb\" target=\"_parent\"><img src=\"https://colab.research.google.com/assets/colab-badge.svg\" alt=\"Open In Colab\"/></a>"
      ]
    },
    {
      "cell_type": "code",
      "metadata": {
        "id": "5nGx2syCL75U"
      },
      "source": [
        "#the sentence(documents) used to calculate the TF-IDF\n",
        "doc1 = \"the sky is blue\"\n",
        "\n",
        "doc2 = \"the sun is bright today\"\n",
        "\n",
        "doc3 = \"the sun in the sky is bright\"\n",
        "\n",
        "doc4 = \"we can see the shining sun the bright sun\""
      ],
      "execution_count": 1,
      "outputs": []
    },
    {
      "cell_type": "code",
      "metadata": {
        "id": "pQW-z1eTMi4U"
      },
      "source": [
        "#split the sentences in to words and assign the list to bow(bag of word) variables\n",
        "bow1 = doc1.split(\" \")\n",
        "bow2 = doc2.split(\" \")\n",
        "bow3 = doc3.split(\" \")\n",
        "bow4 = doc4.split(\" \")"
      ],
      "execution_count": 2,
      "outputs": []
    },
    {
      "cell_type": "code",
      "metadata": {
        "colab": {
          "base_uri": "https://localhost:8080/"
        },
        "id": "nJj05cGcM71x",
        "outputId": "4163a64d-50de-4386-9f2b-370d6bc45555"
      },
      "source": [
        "print (bow1, bow2, bow3, bow4)"
      ],
      "execution_count": 3,
      "outputs": [
        {
          "output_type": "stream",
          "text": [
            "['the', 'sky', 'is', 'blue'] ['the', 'sun', 'is', 'bright', 'today'] ['the', 'sun', 'in', 'the', 'sky', 'is', 'bright'] ['we', 'can', 'see', 'the', 'shining', 'sun', 'the', 'bright', 'sun']\n"
          ],
          "name": "stdout"
        }
      ]
    },
    {
      "cell_type": "code",
      "metadata": {
        "id": "Yno3epRxNCEY"
      },
      "source": [
        "#The union() method returns a set that contains all items from the original set, and all items from the specified set(s).\n",
        "#If an item is present in more than one set, the result will contain only one appearance of this item\n",
        "wordSet = set(bow1).union(set(bow2),set(bow3),set(bow4))"
      ],
      "execution_count": 8,
      "outputs": []
    },
    {
      "cell_type": "code",
      "metadata": {
        "colab": {
          "base_uri": "https://localhost:8080/"
        },
        "id": "OcKXzkBRN9Jf",
        "outputId": "fb087383-8758-4be4-c817-61b335bdad65"
      },
      "source": [
        "#lets view the wordset created using union function with unique of above 4 sentences\n",
        "wordSet"
      ],
      "execution_count": 9,
      "outputs": [
        {
          "output_type": "execute_result",
          "data": {
            "text/plain": [
              "{'blue',\n",
              " 'bright',\n",
              " 'can',\n",
              " 'in',\n",
              " 'is',\n",
              " 'see',\n",
              " 'shining',\n",
              " 'sky',\n",
              " 'sun',\n",
              " 'the',\n",
              " 'today',\n",
              " 'we'}"
            ]
          },
          "metadata": {
            "tags": []
          },
          "execution_count": 9
        }
      ]
    },
    {
      "cell_type": "code",
      "metadata": {
        "id": "9UfkoUsoOI2a"
      },
      "source": [
        "#Let's creatae 4 dictionaries to hold the terms(words) in wordSet and the count of those words appear in eaach and every sentences(documents) considered above\n",
        "#Let's initialise the count of all words to 0 first\n",
        "wordDict1 = dict.fromkeys(wordSet, 0)\n",
        "wordDict2 = dict.fromkeys(wordSet, 0)\n",
        "wordDict3 = dict.fromkeys(wordSet, 0)\n",
        "wordDict4 = dict.fromkeys(wordSet, 0)"
      ],
      "execution_count": 10,
      "outputs": []
    },
    {
      "cell_type": "code",
      "metadata": {
        "colab": {
          "base_uri": "https://localhost:8080/"
        },
        "id": "uqjRvoeBSL-s",
        "outputId": "10a6b441-6682-43ce-f013-dab76a3523df"
      },
      "source": [
        "#Let's view wordDict1 we created using above code to get an idea about the dictionary we created\n",
        "#That dictionary contain all the words we uniquely identified using union function above\n",
        "wordDict1"
      ],
      "execution_count": 11,
      "outputs": [
        {
          "output_type": "execute_result",
          "data": {
            "text/plain": [
              "{'blue': 0,\n",
              " 'bright': 0,\n",
              " 'can': 0,\n",
              " 'in': 0,\n",
              " 'is': 0,\n",
              " 'see': 0,\n",
              " 'shining': 0,\n",
              " 'sky': 0,\n",
              " 'sun': 0,\n",
              " 'the': 0,\n",
              " 'today': 0,\n",
              " 'we': 0}"
            ]
          },
          "metadata": {
            "tags": []
          },
          "execution_count": 11
        }
      ]
    },
    {
      "cell_type": "code",
      "metadata": {
        "id": "K_JQWZJMSl8J"
      },
      "source": [
        "#Now we will get the count of each word appear in each sentence seperately and update the dictionaries respect to the sentence\n",
        "#eg: for the sentence1 (doc1) we take the count and update wordDict1 dictionary.\n",
        "for word in bow1:\n",
        "  wordDict1[word]+=1\n",
        "\n",
        "for word in bow2:\n",
        "  wordDict2[word]+=1\n",
        "\n",
        "for word in bow3:\n",
        "  wordDict3[word]+=1\n",
        "\n",
        "for word in bow4:\n",
        "  wordDict4[word]+=1"
      ],
      "execution_count": 12,
      "outputs": []
    },
    {
      "cell_type": "code",
      "metadata": {
        "colab": {
          "base_uri": "https://localhost:8080/"
        },
        "id": "3ookrViGT1U9",
        "outputId": "d775b7e8-fb79-4e23-ade9-49010c8fae29"
      },
      "source": [
        "wordDict1"
      ],
      "execution_count": 13,
      "outputs": [
        {
          "output_type": "execute_result",
          "data": {
            "text/plain": [
              "{'blue': 1,\n",
              " 'bright': 0,\n",
              " 'can': 0,\n",
              " 'in': 0,\n",
              " 'is': 1,\n",
              " 'see': 0,\n",
              " 'shining': 0,\n",
              " 'sky': 1,\n",
              " 'sun': 0,\n",
              " 'the': 1,\n",
              " 'today': 0,\n",
              " 'we': 0}"
            ]
          },
          "metadata": {
            "tags": []
          },
          "execution_count": 13
        }
      ]
    },
    {
      "cell_type": "code",
      "metadata": {
        "colab": {
          "base_uri": "https://localhost:8080/",
          "height": 162
        },
        "id": "nmEzY9PiT9dI",
        "outputId": "a16f0ac4-14d3-48c5-cd02-8a3c7dcb3601"
      },
      "source": [
        "import pandas as pd\n",
        "#Using pandas library create a dataframe(table) using the dictionaries created above to visualise the data with the frequency of each word appear in each sentences\n",
        "pd.DataFrame([wordDict1,wordDict2, wordDict3, wordDict4])"
      ],
      "execution_count": 15,
      "outputs": [
        {
          "output_type": "execute_result",
          "data": {
            "text/html": [
              "<div>\n",
              "<style scoped>\n",
              "    .dataframe tbody tr th:only-of-type {\n",
              "        vertical-align: middle;\n",
              "    }\n",
              "\n",
              "    .dataframe tbody tr th {\n",
              "        vertical-align: top;\n",
              "    }\n",
              "\n",
              "    .dataframe thead th {\n",
              "        text-align: right;\n",
              "    }\n",
              "</style>\n",
              "<table border=\"1\" class=\"dataframe\">\n",
              "  <thead>\n",
              "    <tr style=\"text-align: right;\">\n",
              "      <th></th>\n",
              "      <th>is</th>\n",
              "      <th>bright</th>\n",
              "      <th>we</th>\n",
              "      <th>see</th>\n",
              "      <th>the</th>\n",
              "      <th>shining</th>\n",
              "      <th>in</th>\n",
              "      <th>sky</th>\n",
              "      <th>can</th>\n",
              "      <th>today</th>\n",
              "      <th>blue</th>\n",
              "      <th>sun</th>\n",
              "    </tr>\n",
              "  </thead>\n",
              "  <tbody>\n",
              "    <tr>\n",
              "      <th>0</th>\n",
              "      <td>1</td>\n",
              "      <td>0</td>\n",
              "      <td>0</td>\n",
              "      <td>0</td>\n",
              "      <td>1</td>\n",
              "      <td>0</td>\n",
              "      <td>0</td>\n",
              "      <td>1</td>\n",
              "      <td>0</td>\n",
              "      <td>0</td>\n",
              "      <td>1</td>\n",
              "      <td>0</td>\n",
              "    </tr>\n",
              "    <tr>\n",
              "      <th>1</th>\n",
              "      <td>1</td>\n",
              "      <td>1</td>\n",
              "      <td>0</td>\n",
              "      <td>0</td>\n",
              "      <td>1</td>\n",
              "      <td>0</td>\n",
              "      <td>0</td>\n",
              "      <td>0</td>\n",
              "      <td>0</td>\n",
              "      <td>1</td>\n",
              "      <td>0</td>\n",
              "      <td>1</td>\n",
              "    </tr>\n",
              "    <tr>\n",
              "      <th>2</th>\n",
              "      <td>1</td>\n",
              "      <td>1</td>\n",
              "      <td>0</td>\n",
              "      <td>0</td>\n",
              "      <td>2</td>\n",
              "      <td>0</td>\n",
              "      <td>1</td>\n",
              "      <td>1</td>\n",
              "      <td>0</td>\n",
              "      <td>0</td>\n",
              "      <td>0</td>\n",
              "      <td>1</td>\n",
              "    </tr>\n",
              "    <tr>\n",
              "      <th>3</th>\n",
              "      <td>0</td>\n",
              "      <td>1</td>\n",
              "      <td>1</td>\n",
              "      <td>1</td>\n",
              "      <td>2</td>\n",
              "      <td>1</td>\n",
              "      <td>0</td>\n",
              "      <td>0</td>\n",
              "      <td>1</td>\n",
              "      <td>0</td>\n",
              "      <td>0</td>\n",
              "      <td>2</td>\n",
              "    </tr>\n",
              "  </tbody>\n",
              "</table>\n",
              "</div>"
            ],
            "text/plain": [
              "   is  bright  we  see  the  shining  in  sky  can  today  blue  sun\n",
              "0   1       0   0    0    1        0   0    1    0      0     1    0\n",
              "1   1       1   0    0    1        0   0    0    0      1     0    1\n",
              "2   1       1   0    0    2        0   1    1    0      0     0    1\n",
              "3   0       1   1    1    2        1   0    0    1      0     0    2"
            ]
          },
          "metadata": {
            "tags": []
          },
          "execution_count": 15
        }
      ]
    },
    {
      "cell_type": "code",
      "metadata": {
        "id": "qdqg1Co7V739"
      },
      "source": [
        "def computerTF(wordDict, bow):\n",
        "  tfDict = {}\n",
        "  bowCount = len(bow)\n",
        "  for word,count in wordDict.items():\n",
        "    tfDict[word] = count/float(bowCount)\n",
        "  return tfDict"
      ],
      "execution_count": 16,
      "outputs": []
    },
    {
      "cell_type": "code",
      "metadata": {
        "id": "VP1K5QO1Wcpa"
      },
      "source": [
        "#Compute the TF values for each sentence\n",
        "tfBow1 = computerTF(wordDict1, bow1)\n",
        "tfBow2 = computerTF(wordDict2, bow2)\n",
        "tfBow3 = computerTF(wordDict3, bow3)\n",
        "tfBow4 = computerTF(wordDict4, bow4)"
      ],
      "execution_count": 17,
      "outputs": []
    },
    {
      "cell_type": "code",
      "metadata": {
        "colab": {
          "base_uri": "https://localhost:8080/"
        },
        "id": "7eHgwVlYXUeV",
        "outputId": "ec35fdec-63ac-495a-f142-fc172375c035"
      },
      "source": [
        "tfBow1"
      ],
      "execution_count": 18,
      "outputs": [
        {
          "output_type": "execute_result",
          "data": {
            "text/plain": [
              "{'blue': 0.25,\n",
              " 'bright': 0.0,\n",
              " 'can': 0.0,\n",
              " 'in': 0.0,\n",
              " 'is': 0.25,\n",
              " 'see': 0.0,\n",
              " 'shining': 0.0,\n",
              " 'sky': 0.25,\n",
              " 'sun': 0.0,\n",
              " 'the': 0.25,\n",
              " 'today': 0.0,\n",
              " 'we': 0.0}"
            ]
          },
          "metadata": {
            "tags": []
          },
          "execution_count": 18
        }
      ]
    },
    {
      "cell_type": "code",
      "metadata": {
        "colab": {
          "base_uri": "https://localhost:8080/"
        },
        "id": "NwWuOklOXXrZ",
        "outputId": "f5db91c8-c03e-4f3f-9b56-37ba14eb6619"
      },
      "source": [
        "tfBow2"
      ],
      "execution_count": 19,
      "outputs": [
        {
          "output_type": "execute_result",
          "data": {
            "text/plain": [
              "{'blue': 0.0,\n",
              " 'bright': 0.2,\n",
              " 'can': 0.0,\n",
              " 'in': 0.0,\n",
              " 'is': 0.2,\n",
              " 'see': 0.0,\n",
              " 'shining': 0.0,\n",
              " 'sky': 0.0,\n",
              " 'sun': 0.2,\n",
              " 'the': 0.2,\n",
              " 'today': 0.2,\n",
              " 'we': 0.0}"
            ]
          },
          "metadata": {
            "tags": []
          },
          "execution_count": 19
        }
      ]
    },
    {
      "cell_type": "code",
      "metadata": {
        "id": "V3rjVgjwXcNC"
      },
      "source": [
        "def computerIDF(docList):\n",
        "  import math\n",
        "  idfDict = {}\n",
        "  N = len(docList)\n",
        "  idfDict = dict.fromkeys(docList[0].keys(), 0)\n",
        "  for doc in docList:\n",
        "    for word, val in doc.items():\n",
        "      if val > 0:\n",
        "        idfDict[word] += 1\n",
        "\n",
        "  for word, val in idfDict.items():\n",
        "    idfDict[word] = math.log10(N / float(val))\n",
        "\n",
        "  return idfDict"
      ],
      "execution_count": 26,
      "outputs": []
    },
    {
      "cell_type": "code",
      "metadata": {
        "id": "mTjmIcH7ZzdD"
      },
      "source": [
        "idfs = computerIDF([wordDict1, wordDict2, wordDict3, wordDict4])"
      ],
      "execution_count": 27,
      "outputs": []
    },
    {
      "cell_type": "code",
      "metadata": {
        "colab": {
          "base_uri": "https://localhost:8080/"
        },
        "id": "r5Slv8q6aQAz",
        "outputId": "bcd203d9-5edf-49a1-e411-27aa17954c96"
      },
      "source": [
        "idfs"
      ],
      "execution_count": 28,
      "outputs": [
        {
          "output_type": "execute_result",
          "data": {
            "text/plain": [
              "{'blue': 0.6020599913279624,\n",
              " 'bright': 0.12493873660829992,\n",
              " 'can': 0.6020599913279624,\n",
              " 'in': 0.6020599913279624,\n",
              " 'is': 0.12493873660829992,\n",
              " 'see': 0.6020599913279624,\n",
              " 'shining': 0.6020599913279624,\n",
              " 'sky': 0.3010299956639812,\n",
              " 'sun': 0.12493873660829992,\n",
              " 'the': 0.0,\n",
              " 'today': 0.6020599913279624,\n",
              " 'we': 0.6020599913279624}"
            ]
          },
          "metadata": {
            "tags": []
          },
          "execution_count": 28
        }
      ]
    },
    {
      "cell_type": "code",
      "metadata": {
        "id": "J8-Oat8qaTLS"
      },
      "source": [
        "def computerTFIDF(tfBow, idfs):\n",
        "  tfidf = {}\n",
        "  for word, val in tfBow.items():\n",
        "    tfidf[word] = val*idfs[word]\n",
        "  return tfidf"
      ],
      "execution_count": 29,
      "outputs": []
    },
    {
      "cell_type": "code",
      "metadata": {
        "id": "yUKjfoJPar7y"
      },
      "source": [
        "tfidfBow1 = computerTFIDF(tfBow1, idfs)\n",
        "tfidfBow2 = computerTFIDF(tfBow2, idfs)\n",
        "tfidfBow3 = computerTFIDF(tfBow3, idfs)\n",
        "tfidfBow4 = computerTFIDF(tfBow4, idfs)"
      ],
      "execution_count": 31,
      "outputs": []
    },
    {
      "cell_type": "code",
      "metadata": {
        "colab": {
          "base_uri": "https://localhost:8080/",
          "height": 162
        },
        "id": "HaO6ykqsbNPK",
        "outputId": "52e26303-0c45-4964-e07f-fe41b6d42d6e"
      },
      "source": [
        "pd.DataFrame([tfidfBow1, tfidfBow2, tfidfBow3, tfidfBow4])"
      ],
      "execution_count": 32,
      "outputs": [
        {
          "output_type": "execute_result",
          "data": {
            "text/html": [
              "<div>\n",
              "<style scoped>\n",
              "    .dataframe tbody tr th:only-of-type {\n",
              "        vertical-align: middle;\n",
              "    }\n",
              "\n",
              "    .dataframe tbody tr th {\n",
              "        vertical-align: top;\n",
              "    }\n",
              "\n",
              "    .dataframe thead th {\n",
              "        text-align: right;\n",
              "    }\n",
              "</style>\n",
              "<table border=\"1\" class=\"dataframe\">\n",
              "  <thead>\n",
              "    <tr style=\"text-align: right;\">\n",
              "      <th></th>\n",
              "      <th>is</th>\n",
              "      <th>bright</th>\n",
              "      <th>we</th>\n",
              "      <th>see</th>\n",
              "      <th>the</th>\n",
              "      <th>shining</th>\n",
              "      <th>in</th>\n",
              "      <th>sky</th>\n",
              "      <th>can</th>\n",
              "      <th>today</th>\n",
              "      <th>blue</th>\n",
              "      <th>sun</th>\n",
              "    </tr>\n",
              "  </thead>\n",
              "  <tbody>\n",
              "    <tr>\n",
              "      <th>0</th>\n",
              "      <td>0.031235</td>\n",
              "      <td>0.000000</td>\n",
              "      <td>0.000000</td>\n",
              "      <td>0.000000</td>\n",
              "      <td>0.0</td>\n",
              "      <td>0.000000</td>\n",
              "      <td>0.000000</td>\n",
              "      <td>0.075257</td>\n",
              "      <td>0.000000</td>\n",
              "      <td>0.000000</td>\n",
              "      <td>0.150515</td>\n",
              "      <td>0.000000</td>\n",
              "    </tr>\n",
              "    <tr>\n",
              "      <th>1</th>\n",
              "      <td>0.024988</td>\n",
              "      <td>0.024988</td>\n",
              "      <td>0.000000</td>\n",
              "      <td>0.000000</td>\n",
              "      <td>0.0</td>\n",
              "      <td>0.000000</td>\n",
              "      <td>0.000000</td>\n",
              "      <td>0.000000</td>\n",
              "      <td>0.000000</td>\n",
              "      <td>0.120412</td>\n",
              "      <td>0.000000</td>\n",
              "      <td>0.024988</td>\n",
              "    </tr>\n",
              "    <tr>\n",
              "      <th>2</th>\n",
              "      <td>0.017848</td>\n",
              "      <td>0.017848</td>\n",
              "      <td>0.000000</td>\n",
              "      <td>0.000000</td>\n",
              "      <td>0.0</td>\n",
              "      <td>0.000000</td>\n",
              "      <td>0.086009</td>\n",
              "      <td>0.043004</td>\n",
              "      <td>0.000000</td>\n",
              "      <td>0.000000</td>\n",
              "      <td>0.000000</td>\n",
              "      <td>0.017848</td>\n",
              "    </tr>\n",
              "    <tr>\n",
              "      <th>3</th>\n",
              "      <td>0.000000</td>\n",
              "      <td>0.013882</td>\n",
              "      <td>0.066896</td>\n",
              "      <td>0.066896</td>\n",
              "      <td>0.0</td>\n",
              "      <td>0.066896</td>\n",
              "      <td>0.000000</td>\n",
              "      <td>0.000000</td>\n",
              "      <td>0.066896</td>\n",
              "      <td>0.000000</td>\n",
              "      <td>0.000000</td>\n",
              "      <td>0.027764</td>\n",
              "    </tr>\n",
              "  </tbody>\n",
              "</table>\n",
              "</div>"
            ],
            "text/plain": [
              "         is    bright        we  ...     today      blue       sun\n",
              "0  0.031235  0.000000  0.000000  ...  0.000000  0.150515  0.000000\n",
              "1  0.024988  0.024988  0.000000  ...  0.120412  0.000000  0.024988\n",
              "2  0.017848  0.017848  0.000000  ...  0.000000  0.000000  0.017848\n",
              "3  0.000000  0.013882  0.066896  ...  0.000000  0.000000  0.027764\n",
              "\n",
              "[4 rows x 12 columns]"
            ]
          },
          "metadata": {
            "tags": []
          },
          "execution_count": 32
        }
      ]
    },
    {
      "cell_type": "code",
      "metadata": {
        "id": "18Dre4sCbc8C"
      },
      "source": [
        "#import TFidfVectorizer\n",
        "from sklearn.feature_extraction.text import TfidfVectorizer"
      ],
      "execution_count": 33,
      "outputs": []
    },
    {
      "cell_type": "code",
      "metadata": {
        "id": "gxTZq80BbtXs"
      },
      "source": [
        "tfidf = TfidfVectorizer()"
      ],
      "execution_count": 34,
      "outputs": []
    },
    {
      "cell_type": "code",
      "metadata": {
        "id": "pWdDlPWfbxib"
      },
      "source": [
        "response = tfidf.fit_transform([doc1, doc2, doc3, doc4])"
      ],
      "execution_count": 35,
      "outputs": []
    },
    {
      "cell_type": "code",
      "metadata": {
        "colab": {
          "base_uri": "https://localhost:8080/"
        },
        "id": "EQGF6aIxb8Ht",
        "outputId": "f17f4d3c-c8a8-425d-b1ed-4c3682f5f0e9"
      },
      "source": [
        "print(response.shape)"
      ],
      "execution_count": 36,
      "outputs": [
        {
          "output_type": "stream",
          "text": [
            "(4, 12)\n"
          ],
          "name": "stdout"
        }
      ]
    },
    {
      "cell_type": "code",
      "metadata": {
        "colab": {
          "base_uri": "https://localhost:8080/"
        },
        "id": "PRv7uMkYcCK0",
        "outputId": "6e3f4082-596b-49d4-8e89-a7ee1dbbd79a"
      },
      "source": [
        "feature_names = tfidf.get_feature_names()\n",
        "for col in response.nonzero()[1]:\n",
        "  print (feature_names[col], ' - ', response[0, col])"
      ],
      "execution_count": 37,
      "outputs": [
        {
          "output_type": "stream",
          "text": [
            "blue  -  0.6591911178676787\n",
            "is  -  0.42075315164463567\n",
            "sky  -  0.5197138488789809\n",
            "the  -  0.3439932714296342\n",
            "today  -  0.0\n",
            "bright  -  0.0\n",
            "sun  -  0.0\n",
            "is  -  0.42075315164463567\n",
            "the  -  0.3439932714296342\n",
            "in  -  0.0\n",
            "bright  -  0.0\n",
            "sun  -  0.0\n",
            "is  -  0.42075315164463567\n",
            "sky  -  0.5197138488789809\n",
            "the  -  0.3439932714296342\n",
            "shining  -  0.0\n",
            "see  -  0.0\n",
            "can  -  0.0\n",
            "we  -  0.0\n",
            "bright  -  0.0\n",
            "sun  -  0.0\n",
            "the  -  0.3439932714296342\n"
          ],
          "name": "stdout"
        }
      ]
    }
  ]
}
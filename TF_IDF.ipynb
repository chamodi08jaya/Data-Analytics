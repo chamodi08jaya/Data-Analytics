{
  "nbformat": 4,
  "nbformat_minor": 0,
  "metadata": {
    "colab": {
      "name": "TF-IDF.ipynb",
      "provenance": [],
      "authorship_tag": "ABX9TyP+NKztN/hYeo8XRI559MMB",
      "include_colab_link": true
    },
    "kernelspec": {
      "name": "python3",
      "display_name": "Python 3"
    },
    "language_info": {
      "name": "python"
    }
  },
  "cells": [
    {
      "cell_type": "markdown",
      "metadata": {
        "id": "view-in-github",
        "colab_type": "text"
      },
      "source": [
        "<a href=\"https://colab.research.google.com/github/chamodi08jaya/Data-Analytics/blob/main/TF_IDF.ipynb\" target=\"_parent\"><img src=\"https://colab.research.google.com/assets/colab-badge.svg\" alt=\"Open In Colab\"/></a>"
      ]
    },
    {
      "cell_type": "code",
      "metadata": {
        "id": "W9VQYvN58fAd"
      },
      "source": [
        "#the sentence (documents) used to calculate the TF-IDF\n",
        "doc1 = \"the sky is blue\"\n",
        "doc2 = \"the  sun is bright today\"\n",
        "doc3 = \"the sun in the sky is bright\"\n",
        "doc4 = \"we can see the shining sun the bright sun\""
      ],
      "execution_count": 1,
      "outputs": []
    },
    {
      "cell_type": "code",
      "metadata": {
        "id": "f6DqxbUoOro-"
      },
      "source": [
        "#split the sentence in to words and assign the list to bow(bag of word) variables\n",
        "bow1 = doc1.split(\" \")\n",
        "bow2 = doc2.split(\" \")\n",
        "bow3 = doc3.split(\" \")\n",
        "bow4 = doc4.split(\" \")"
      ],
      "execution_count": 3,
      "outputs": []
    },
    {
      "cell_type": "code",
      "metadata": {
        "colab": {
          "base_uri": "https://localhost:8080/"
        },
        "id": "KTYot6CGPZ87",
        "outputId": "8d4179ff-96b3-4e5c-f64c-5e6ceb5330b9"
      },
      "source": [
        "print (bow1, bow2, bow3, bow4)"
      ],
      "execution_count": 4,
      "outputs": [
        {
          "output_type": "stream",
          "text": [
            "['the', 'sky', 'is', 'blue'] ['the', '', 'sun', 'is', 'bright', 'today'] ['the', 'sun', 'in', 'the', 'sky', 'is', 'bright'] ['we', 'can', 'see', 'the', 'shining', 'sun', 'the', 'bright', 'sun']\n"
          ],
          "name": "stdout"
        }
      ]
    },
    {
      "cell_type": "code",
      "metadata": {
        "id": "xtEeHo3pQwn0"
      },
      "source": [
        "#The union() method returns a set that contains all items from the original set, and all items from specified set(s).\n",
        "#If an item is present in more than one set, the result will contain only one appearance of this item.\n",
        "wordSet = set(bow1).union(set(bow2),set(bow3),set(bow4))"
      ],
      "execution_count": 6,
      "outputs": []
    },
    {
      "cell_type": "code",
      "metadata": {
        "colab": {
          "base_uri": "https://localhost:8080/"
        },
        "id": "HRvPPh44THuS",
        "outputId": "db0ac1a9-3f24-4c21-c36f-7c21cf43a488"
      },
      "source": [
        "#lets view the wordset created using union function with uniue words of above 4 senetnces\n",
        "wordSet"
      ],
      "execution_count": 7,
      "outputs": [
        {
          "output_type": "execute_result",
          "data": {
            "text/plain": [
              "{'',\n",
              " 'blue',\n",
              " 'bright',\n",
              " 'can',\n",
              " 'in',\n",
              " 'is',\n",
              " 'see',\n",
              " 'shining',\n",
              " 'sky',\n",
              " 'sun',\n",
              " 'the',\n",
              " 'today',\n",
              " 'we'}"
            ]
          },
          "metadata": {
            "tags": []
          },
          "execution_count": 7
        }
      ]
    },
    {
      "cell_type": "code",
      "metadata": {
        "id": "a9sbOzt7gagh"
      },
      "source": [
        "#Let's create 4 dictionaries to hold the terms (word) in worset ans the count of those words appear in each and every sentences(documents) consider above \n",
        "#Let's initialise he count of all words to 0 first\n",
        "wordDict1 = dict.fromkeys(wordSet, 0)\n",
        "wordDict2 = dict.fromkeys(wordSet, 0)\n",
        "wordDict3 = dict.fromkeys(wordSet, 0)\n",
        "wordDict4 = dict.fromkeys(wordSet, 0)\n"
      ],
      "execution_count": 9,
      "outputs": []
    },
    {
      "cell_type": "code",
      "metadata": {
        "colab": {
          "base_uri": "https://localhost:8080/"
        },
        "id": "Ys8fA0IChrfp",
        "outputId": "f7b0061a-3a8c-48eb-c6dc-7f44180d930c"
      },
      "source": [
        "#Let's view wordDict1 we created using above code to get an idea about the dictionary created\n",
        "#That dictionary conatin all the words we uniquley identified using union function above\n",
        "wordDict1"
      ],
      "execution_count": 10,
      "outputs": [
        {
          "output_type": "execute_result",
          "data": {
            "text/plain": [
              "{'': 0,\n",
              " 'blue': 0,\n",
              " 'bright': 0,\n",
              " 'can': 0,\n",
              " 'in': 0,\n",
              " 'is': 0,\n",
              " 'see': 0,\n",
              " 'shining': 0,\n",
              " 'sky': 0,\n",
              " 'sun': 0,\n",
              " 'the': 0,\n",
              " 'today': 0,\n",
              " 'we': 0}"
            ]
          },
          "metadata": {
            "tags": []
          },
          "execution_count": 10
        }
      ]
    },
    {
      "cell_type": "code",
      "metadata": {
        "id": "vhANw-mgi0qu"
      },
      "source": [
        "#Now \n",
        "for word in bow1:\n",
        "  wordDict1[word]+=1\n",
        "\n",
        "for word in bow2:\n",
        "  wordDict2[word]+=1\n",
        "\n",
        "for word in bow3:\n",
        "  wordDict3[word]+=1\n",
        "\n",
        "for word in bow4:\n",
        "  wordDict4[word]+=1"
      ],
      "execution_count": 17,
      "outputs": []
    },
    {
      "cell_type": "code",
      "metadata": {
        "colab": {
          "base_uri": "https://localhost:8080/"
        },
        "id": "KmdeKvQTjQlm",
        "outputId": "b861f3af-7a89-4ea2-a453-450701cf479b"
      },
      "source": [
        "wordDict1"
      ],
      "execution_count": 18,
      "outputs": [
        {
          "output_type": "execute_result",
          "data": {
            "text/plain": [
              "{'': 0,\n",
              " 'blue': 4,\n",
              " 'bright': 0,\n",
              " 'can': 0,\n",
              " 'in': 0,\n",
              " 'is': 4,\n",
              " 'see': 0,\n",
              " 'shining': 0,\n",
              " 'sky': 4,\n",
              " 'sun': 0,\n",
              " 'the': 4,\n",
              " 'today': 0,\n",
              " 'we': 0}"
            ]
          },
          "metadata": {
            "tags": []
          },
          "execution_count": 18
        }
      ]
    },
    {
      "cell_type": "markdown",
      "metadata": {
        "id": "1fZusq1gg9S0"
      },
      "source": [
        ""
      ]
    }
  ]
}